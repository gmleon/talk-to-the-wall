{
 "cells": [
  {
   "cell_type": "code",
   "execution_count": 4,
   "id": "1afe635f-2756-4e1b-a20e-38bb8fb9c64a",
   "metadata": {},
   "outputs": [
    {
     "name": "stdout",
     "output_type": "stream",
     "text": [
      "3.11.7\n"
     ]
    }
   ],
   "source": [
    "import platform \n",
    "print (platform.python_version())"
   ]
  },
  {
   "cell_type": "markdown",
   "id": "3de877c1-71d0-497e-840e-da6317de522e",
   "metadata": {},
   "source": [
    "# Speech Count and Personality Traits"
   ]
  },
  {
   "cell_type": "code",
   "execution_count": 12,
   "id": "f57a1fee-009d-4b68-bb2d-3e19cd543ab1",
   "metadata": {},
   "outputs": [],
   "source": [
    "import pandas as pd\n",
    "import plotly.express as px\n",
    "import numpy as np"
   ]
  },
  {
   "cell_type": "code",
   "execution_count": 13,
   "id": "bce9f1ea-9deb-4187-9396-bb21b4f9ed9d",
   "metadata": {},
   "outputs": [
    {
     "data": {
      "text/html": [
       "<div>\n",
       "<style scoped>\n",
       "    .dataframe tbody tr th:only-of-type {\n",
       "        vertical-align: middle;\n",
       "    }\n",
       "\n",
       "    .dataframe tbody tr th {\n",
       "        vertical-align: top;\n",
       "    }\n",
       "\n",
       "    .dataframe thead th {\n",
       "        text-align: right;\n",
       "    }\n",
       "</style>\n",
       "<table border=\"1\" class=\"dataframe\">\n",
       "  <thead>\n",
       "    <tr style=\"text-align: right;\">\n",
       "      <th></th>\n",
       "      <th>person</th>\n",
       "      <th>modality</th>\n",
       "      <th>counts</th>\n",
       "      <th>variable</th>\n",
       "      <th>value</th>\n",
       "    </tr>\n",
       "  </thead>\n",
       "  <tbody>\n",
       "    <tr>\n",
       "      <th>0</th>\n",
       "      <td>P3</td>\n",
       "      <td>Voice</td>\n",
       "      <td>10</td>\n",
       "      <td>Agreeableness</td>\n",
       "      <td>52</td>\n",
       "    </tr>\n",
       "    <tr>\n",
       "      <th>1</th>\n",
       "      <td>P4</td>\n",
       "      <td>Voice</td>\n",
       "      <td>20</td>\n",
       "      <td>Agreeableness</td>\n",
       "      <td>55</td>\n",
       "    </tr>\n",
       "    <tr>\n",
       "      <th>2</th>\n",
       "      <td>P5</td>\n",
       "      <td>Voice</td>\n",
       "      <td>15</td>\n",
       "      <td>Agreeableness</td>\n",
       "      <td>35</td>\n",
       "    </tr>\n",
       "    <tr>\n",
       "      <th>3</th>\n",
       "      <td>P6</td>\n",
       "      <td>Voice</td>\n",
       "      <td>3</td>\n",
       "      <td>Agreeableness</td>\n",
       "      <td>53</td>\n",
       "    </tr>\n",
       "    <tr>\n",
       "      <th>4</th>\n",
       "      <td>P7</td>\n",
       "      <td>Voice</td>\n",
       "      <td>28</td>\n",
       "      <td>Agreeableness</td>\n",
       "      <td>43</td>\n",
       "    </tr>\n",
       "  </tbody>\n",
       "</table>\n",
       "</div>"
      ],
      "text/plain": [
       "  person modality  counts       variable  value\n",
       "0     P3    Voice      10  Agreeableness     52\n",
       "1     P4    Voice      20  Agreeableness     55\n",
       "2     P5    Voice      15  Agreeableness     35\n",
       "3     P6    Voice       3  Agreeableness     53\n",
       "4     P7    Voice      28  Agreeableness     43"
      ]
     },
     "execution_count": 13,
     "metadata": {},
     "output_type": "execute_result"
    }
   ],
   "source": [
    "long_df = pd.read_csv(\"data/speech_count_with_personality_scores.csv\")\n",
    "long_df.head()"
   ]
  },
  {
   "cell_type": "code",
   "execution_count": 14,
   "id": "3352dc28-71f2-4154-86b6-9702559395cf",
   "metadata": {},
   "outputs": [],
   "source": [
    "fontsize = 24"
   ]
  },
  {
   "cell_type": "code",
   "execution_count": 15,
   "id": "2fae4c05-9b97-4ec0-8748-daf220dbef4b",
   "metadata": {},
   "outputs": [
    {
     "data": {
      "application/vnd.plotly.v1+json": {
       "config": {
        "plotlyServerURL": "https://plotly.com"
       },
       "data": [
        {
         "hovertemplate": "variable=Agreeableness<br>=%{x}<br>Score=%{y}<extra></extra>",
         "legendgroup": "Agreeableness",
         "marker": {
          "color": "#1F77B4",
          "size": 12,
          "symbol": "circle"
         },
         "mode": "markers",
         "name": "Agreeableness",
         "orientation": "v",
         "showlegend": true,
         "type": "scatter",
         "x": [
          10,
          20,
          15,
          3,
          28,
          57,
          18,
          37,
          57,
          0,
          0,
          40,
          4,
          11,
          22,
          28,
          28,
          12,
          2,
          1
         ],
         "xaxis": "x",
         "y": [
          52,
          55,
          35,
          53,
          43,
          39,
          53,
          47,
          40,
          40,
          52,
          42,
          53,
          41,
          45,
          34,
          49,
          54,
          55,
          51
         ],
         "yaxis": "y"
        },
        {
         "hovertemplate": "variable=Extraversion<br>=%{x}<br>Score=%{y}<extra></extra>",
         "legendgroup": "Extraversion",
         "marker": {
          "color": "#FF7F0E",
          "size": 12,
          "symbol": "circle"
         },
         "mode": "markers",
         "name": "Extraversion",
         "orientation": "v",
         "showlegend": true,
         "type": "scatter",
         "x": [
          10,
          20,
          15,
          3,
          28,
          57,
          18,
          37,
          57,
          0,
          0,
          40,
          4,
          11,
          22,
          28,
          28,
          12,
          2,
          1
         ],
         "xaxis": "x2",
         "y": [
          44,
          42,
          48,
          34,
          30,
          38,
          44,
          46,
          32,
          42,
          35,
          48,
          46,
          45,
          46,
          43,
          37,
          47,
          38,
          44
         ],
         "yaxis": "y2"
        },
        {
         "hovertemplate": "variable=Openness<br>=%{x}<br>Score=%{y}<extra></extra>",
         "legendgroup": "Openness",
         "marker": {
          "color": "#2CA02C",
          "size": 12,
          "symbol": "circle"
         },
         "mode": "markers",
         "name": "Openness",
         "orientation": "v",
         "showlegend": true,
         "type": "scatter",
         "x": [
          10,
          20,
          15,
          3,
          28,
          57,
          18,
          37,
          57,
          0,
          0,
          40,
          4,
          11,
          22,
          28,
          28,
          12,
          2,
          1
         ],
         "xaxis": "x3",
         "y": [
          50,
          49,
          49,
          45,
          48,
          37,
          45,
          47,
          42,
          48,
          43,
          47,
          53,
          44,
          41,
          36,
          49,
          49,
          45,
          56
         ],
         "yaxis": "y3"
        }
       ],
       "layout": {
        "annotations": [
         {
          "font": {
           "family": "Arial",
           "size": 24
          },
          "showarrow": false,
          "text": "Agreeableness",
          "x": 0.15999999999999998,
          "xanchor": "center",
          "xref": "paper",
          "y": 1,
          "yanchor": "bottom",
          "yref": "paper"
         },
         {
          "font": {
           "family": "Arial",
           "size": 24
          },
          "showarrow": false,
          "text": "Extraversion",
          "x": 0.49999999999999994,
          "xanchor": "center",
          "xref": "paper",
          "y": 1,
          "yanchor": "bottom",
          "yref": "paper"
         },
         {
          "font": {
           "family": "Arial",
           "size": 24
          },
          "showarrow": false,
          "text": "Openness",
          "x": 0.8399999999999999,
          "xanchor": "center",
          "xref": "paper",
          "y": 1,
          "yanchor": "bottom",
          "yref": "paper"
         }
        ],
        "height": 400,
        "legend": {
         "title": {
          "text": "variable"
         },
         "tracegroupgap": 0
        },
        "margin": {
         "b": 70,
         "l": 65,
         "r": 0,
         "t": 26
        },
        "plot_bgcolor": "#F1F1F1",
        "showlegend": false,
        "template": {
         "data": {
          "scatter": [
           {
            "type": "scatter"
           }
          ]
         }
        },
        "title": {
         "font": {
          "family": "Arial",
          "size": 24
         },
         "text": "Speech Interaction Use",
         "x": 0.532,
         "xanchor": "center",
         "y": 0.054,
         "yanchor": "top"
        },
        "width": 960,
        "xaxis": {
         "anchor": "y",
         "domain": [
          0,
          0.31999999999999995
         ],
         "range": [
          -2,
          60
         ],
         "tickfont": {
          "family": "Arial",
          "size": 22
         },
         "title": {
          "font": {
           "family": "Arial",
           "size": 24
          },
          "text": ""
         },
         "type": "linear"
        },
        "xaxis2": {
         "anchor": "y2",
         "domain": [
          0.33999999999999997,
          0.6599999999999999
         ],
         "matches": "x",
         "range": [
          -2,
          60
         ],
         "tickfont": {
          "family": "Arial",
          "size": 22
         },
         "title": {
          "font": {
           "family": "Arial",
           "size": 24
          },
          "text": ""
         },
         "type": "linear"
        },
        "xaxis3": {
         "anchor": "y3",
         "domain": [
          0.6799999999999999,
          0.9999999999999999
         ],
         "matches": "x",
         "range": [
          -2,
          60
         ],
         "tickfont": {
          "family": "Arial",
          "size": 22
         },
         "title": {
          "font": {
           "family": "Arial",
           "size": 24
          },
          "text": ""
         },
         "type": "linear"
        },
        "yaxis": {
         "anchor": "x",
         "automargin": true,
         "domain": [
          0,
          1
         ],
         "range": [
          12,
          60
         ],
         "tickfont": {
          "family": "Arial",
          "size": 24
         },
         "title": {
          "font": {
           "family": "Arial",
           "size": 24
          },
          "text": "Score"
         },
         "type": "linear"
        },
        "yaxis2": {
         "anchor": "x2",
         "automargin": true,
         "domain": [
          0,
          1
         ],
         "matches": "y",
         "showticklabels": false,
         "tickfont": {
          "family": "Arial",
          "size": 24
         },
         "title": {
          "font": {
           "family": "Arial",
           "size": 24
          }
         },
         "type": "linear"
        },
        "yaxis3": {
         "anchor": "x3",
         "automargin": true,
         "domain": [
          0,
          1
         ],
         "matches": "y",
         "showticklabels": false,
         "tickfont": {
          "family": "Arial",
          "size": 24
         },
         "title": {
          "font": {
           "family": "Arial",
           "size": 24
          }
         },
         "type": "linear"
        }
       }
      },
      "image/png": "[encoded data removed]",
      "text/html": [
       "<div>                            <div id=\"27220fa6-0e75-49df-b5f7-f317fe0009c9\" class=\"plotly-graph-div\" style=\"height:400px; width:960px;\"></div>            <script type=\"text/javascript\">                require([\"plotly\"], function(Plotly) {                    window.PLOTLYENV=window.PLOTLYENV || {};                                    if (document.getElementById(\"27220fa6-0e75-49df-b5f7-f317fe0009c9\")) {                    Plotly.newPlot(                        \"27220fa6-0e75-49df-b5f7-f317fe0009c9\",                        [{\"hovertemplate\":\"variable=Agreeableness<br>=%{x}<br>Score=%{y}<extra></extra>\",\"legendgroup\":\"Agreeableness\",\"marker\":{\"color\":\"#1F77B4\",\"symbol\":\"circle\",\"size\":12},\"mode\":\"markers\",\"name\":\"Agreeableness\",\"orientation\":\"v\",\"showlegend\":true,\"x\":[10,20,15,3,28,57,18,37,57,0,0,40,4,11,22,28,28,12,2,1],\"xaxis\":\"x\",\"y\":[52,55,35,53,43,39,53,47,40,40,52,42,53,41,45,34,49,54,55,51],\"yaxis\":\"y\",\"type\":\"scatter\"},{\"hovertemplate\":\"variable=Extraversion<br>=%{x}<br>Score=%{y}<extra></extra>\",\"legendgroup\":\"Extraversion\",\"marker\":{\"color\":\"#FF7F0E\",\"symbol\":\"circle\",\"size\":12},\"mode\":\"markers\",\"name\":\"Extraversion\",\"orientation\":\"v\",\"showlegend\":true,\"x\":[10,20,15,3,28,57,18,37,57,0,0,40,4,11,22,28,28,12,2,1],\"xaxis\":\"x2\",\"y\":[44,42,48,34,30,38,44,46,32,42,35,48,46,45,46,43,37,47,38,44],\"yaxis\":\"y2\",\"type\":\"scatter\"},{\"hovertemplate\":\"variable=Openness<br>=%{x}<br>Score=%{y}<extra></extra>\",\"legendgroup\":\"Openness\",\"marker\":{\"color\":\"#2CA02C\",\"symbol\":\"circle\",\"size\":12},\"mode\":\"markers\",\"name\":\"Openness\",\"orientation\":\"v\",\"showlegend\":true,\"x\":[10,20,15,3,28,57,18,37,57,0,0,40,4,11,22,28,28,12,2,1],\"xaxis\":\"x3\",\"y\":[50,49,49,45,48,37,45,47,42,48,43,47,53,44,41,36,49,49,45,56],\"yaxis\":\"y3\",\"type\":\"scatter\"}],                        {\"template\":{\"data\":{\"scatter\":[{\"type\":\"scatter\"}]}},\"xaxis\":{\"anchor\":\"y\",\"domain\":[0.0,0.31999999999999995],\"title\":{\"text\":\"\",\"font\":{\"size\":24,\"family\":\"Arial\"}},\"range\":[-2,60],\"tickfont\":{\"family\":\"Arial\",\"size\":22}},\"yaxis\":{\"anchor\":\"x\",\"domain\":[0.0,1.0],\"title\":{\"text\":\"Score\",\"font\":{\"size\":24,\"family\":\"Arial\"}},\"range\":[12,60],\"tickfont\":{\"family\":\"Arial\",\"size\":24},\"automargin\":true},\"xaxis2\":{\"anchor\":\"y2\",\"domain\":[0.33999999999999997,0.6599999999999999],\"matches\":\"x\",\"title\":{\"text\":\"\",\"font\":{\"size\":24,\"family\":\"Arial\"}},\"range\":[-2,60],\"tickfont\":{\"family\":\"Arial\",\"size\":22}},\"yaxis2\":{\"anchor\":\"x2\",\"domain\":[0.0,1.0],\"matches\":\"y\",\"showticklabels\":false,\"tickfont\":{\"family\":\"Arial\",\"size\":24},\"title\":{\"font\":{\"size\":24,\"family\":\"Arial\"}},\"automargin\":true},\"xaxis3\":{\"anchor\":\"y3\",\"domain\":[0.6799999999999999,0.9999999999999999],\"matches\":\"x\",\"title\":{\"text\":\"\",\"font\":{\"size\":24,\"family\":\"Arial\"}},\"range\":[-2,60],\"tickfont\":{\"family\":\"Arial\",\"size\":22}},\"yaxis3\":{\"anchor\":\"x3\",\"domain\":[0.0,1.0],\"matches\":\"y\",\"showticklabels\":false,\"tickfont\":{\"family\":\"Arial\",\"size\":24},\"title\":{\"font\":{\"size\":24,\"family\":\"Arial\"}},\"automargin\":true},\"annotations\":[{\"font\":{\"size\":24,\"family\":\"Arial\"},\"showarrow\":false,\"text\":\"Agreeableness\",\"x\":0.15999999999999998,\"xanchor\":\"center\",\"xref\":\"paper\",\"y\":1.0,\"yanchor\":\"bottom\",\"yref\":\"paper\"},{\"font\":{\"size\":24,\"family\":\"Arial\"},\"showarrow\":false,\"text\":\"Extraversion\",\"x\":0.49999999999999994,\"xanchor\":\"center\",\"xref\":\"paper\",\"y\":1.0,\"yanchor\":\"bottom\",\"yref\":\"paper\"},{\"font\":{\"size\":24,\"family\":\"Arial\"},\"showarrow\":false,\"text\":\"Openness\",\"x\":0.8399999999999999,\"xanchor\":\"center\",\"xref\":\"paper\",\"y\":1.0,\"yanchor\":\"bottom\",\"yref\":\"paper\"}],\"legend\":{\"title\":{\"text\":\"variable\"},\"tracegroupgap\":0},\"margin\":{\"t\":26,\"l\":65,\"r\":0,\"b\":70},\"title\":{\"font\":{\"size\":24,\"family\":\"Arial\"},\"text\":\"Speech Interaction Use\",\"y\":0.054,\"x\":0.532,\"xanchor\":\"center\",\"yanchor\":\"top\"},\"height\":400,\"width\":960,\"showlegend\":false,\"plot_bgcolor\":\"#F1F1F1\"},                        {\"responsive\": true}                    ).then(function(){\n",
       "                            \n",
       "var gd = document.getElementById('27220fa6-0e75-49df-b5f7-f317fe0009c9');\n",
       "var x = new MutationObserver(function (mutations, observer) {{\n",
       "        var display = window.getComputedStyle(gd).display;\n",
       "        if (!display || display === 'none') {{\n",
       "            console.log([gd, 'removed!']);\n",
       "            Plotly.purge(gd);\n",
       "            observer.disconnect();\n",
       "        }}\n",
       "}});\n",
       "\n",
       "// Listen for the removal of the full notebook cells\n",
       "var notebookContainer = gd.closest('#notebook-container');\n",
       "if (notebookContainer) {{\n",
       "    x.observe(notebookContainer, {childList: true});\n",
       "}}\n",
       "\n",
       "// Listen for the clearing of the current output cell\n",
       "var outputEl = gd.closest('.output');\n",
       "if (outputEl) {{\n",
       "    x.observe(outputEl, {childList: true});\n",
       "}}\n",
       "\n",
       "                        })                };                });            </script>        </div>"
      ]
     },
     "metadata": {},
     "output_type": "display_data"
    }
   ],
   "source": [
    "# Create scatterplots\n",
    "fig = px.scatter(long_df, x=\"counts\", y=\"value\", color=\"variable\", facet_col=\"variable\",\n",
    "                      template='none', range_x=[-2, 60], range_y=[12, 60], #trendline=\"ols\",\n",
    "                      labels={\n",
    "                     \"value\": \"Score\",\n",
    "                     \"counts\": \"\"\n",
    "                     })\n",
    "\n",
    "fig.update_yaxes(automargin = True,       \n",
    "                tickfont=dict(family='Arial', size=fontsize),\n",
    "                title_font=dict(size=fontsize, family='Arial'),\n",
    "                     )\n",
    "\n",
    "fig.update_xaxes(tickfont=dict(family='Arial', size=fontsize-2),\n",
    "                 title_font=dict(size=fontsize, family='Arial')\n",
    "                )\n",
    "\n",
    "fig.update_layout(height=400, width=960, showlegend=False, plot_bgcolor = \"#F1F1F1\",\n",
    "                       margin=dict(l=65, r=0, b=70, t=26), \n",
    "                      title={\n",
    "                            'text': \"Speech Interaction Use\", 'font': dict(size=fontsize, family='Arial'),\n",
    "                            'y':0.054,\n",
    "                            'x':0.532,\n",
    "                            'xanchor': 'center',\n",
    "                            'yanchor': 'top'})\n",
    "\n",
    "fig.for_each_annotation(lambda a: a.update(text=a.text.split(\"=\")[-1], font=dict(size=fontsize, family='Arial')))\n",
    "fig.update_traces(marker_size=12)\n",
    "fig.write_image(\"fig4-personality-traits.pdf\")\n",
    "fig.show()"
   ]
  },
  {
   "cell_type": "code",
   "execution_count": null,
   "id": "c0def4fe-3e28-4eb7-b874-4dfccecf1c64",
   "metadata": {},
   "outputs": [],
   "source": []
  }
 ],
 "metadata": {
  "kernelspec": {
   "display_name": "Python 3 (ipykernel)",
   "language": "python",
   "name": "python3"
  },
  "language_info": {
   "codemirror_mode": {
    "name": "ipython",
    "version": 3
   },
   "file_extension": ".py",
   "mimetype": "text/x-python",
   "name": "python",
   "nbconvert_exporter": "python",
   "pygments_lexer": "ipython3",
   "version": "3.11.7"
  }
 },
 "nbformat": 4,
 "nbformat_minor": 5
}
